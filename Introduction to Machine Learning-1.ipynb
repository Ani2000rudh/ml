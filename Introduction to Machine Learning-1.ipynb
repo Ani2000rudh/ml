{
  "metadata": {
    "language_info": {
      "codemirror_mode": {
        "name": "python",
        "version": 3
      },
      "file_extension": ".py",
      "mimetype": "text/x-python",
      "name": "python",
      "nbconvert_exporter": "python",
      "pygments_lexer": "ipython3",
      "version": "3.8"
    },
    "kernelspec": {
      "name": "python",
      "display_name": "Python (Pyodide)",
      "language": "python"
    }
  },
  "nbformat_minor": 4,
  "nbformat": 4,
  "cells": [
    {
      "cell_type": "code",
      "source": "'''Q1- Explain thK following with an wxample\n1) Artificial Intelligence\n2) Machine Learning,\n3) Deep Learning'''\n\n\n'''arificial intelegence : is an approch to make computers/machines smarter that they can perform task \nsmarter without human interference.\n\nmachine learning is ia sub set of artificial intelligence that has some mathematical,stastical tools/ alogrthim that trains the machine\naccordingly to predect the data/forcast data \n\ndeeplearning; is a subset od machine learning Deep learning \nthat allows computers to learn and improve at tasks on their own, without being explicitly programmed by humans'''",
      "metadata": {
        "trusted": true
      },
      "execution_count": 1,
      "outputs": [
        {
          "execution_count": 1,
          "output_type": "execute_result",
          "data": {
            "text/plain": "'arificial intelegence : is an approch to make computers/machines smarter that they can perform task \\nsmarter without human interference.\\n\\nmachine learning is ia sub set of artificial intelligence that has some mathematical,stastical tools/ alogrthim that trains the machine\\naccordingly to predect the data/forcast data \\n\\ndeeplearning; is a subset od machine learning Deep learning \\nthat allows computers to learn and improve at tasks on their own, without being explicitly programmed by humans'"
          },
          "metadata": {}
        }
      ]
    },
    {
      "cell_type": "code",
      "source": "\"What is supervised learning? List some examplKs of supervised learning.\"\n\n\n'''supervised learning is a type of machine learning where the model is complrtely trained with data set and later deployed to operate.\nSentiment analysis' spam detection ,loan approval etc'''\n",
      "metadata": {
        "trusted": true
      },
      "execution_count": 6,
      "outputs": []
    },
    {
      "cell_type": "code",
      "source": "\"Q3- GWhat is unsupKrvisKd lKarnin*? List somK K=amplKs of unsupKrvisKd lKarnin*.\"\n\n'''unsupervised learning is a type of machine learning where is is not \ntrained with data set but it creates a group, cluster of data which are similar . and does not give any out put as any such.'''",
      "metadata": {
        "trusted": true
      },
      "execution_count": 8,
      "outputs": [
        {
          "execution_count": 8,
          "output_type": "execute_result",
          "data": {
            "text/plain": "'unsupervised learning is a type of machine learning where is is not \\ntrained with data set but it creates a group, cluster of data which are similar . and does not give any out put as any such.'"
          },
          "metadata": {}
        }
      ]
    },
    {
      "cell_type": "code",
      "source": "'''Q4- What is thK diffKrKncK bKtwKKn AI, ML, DL, and DS?'''\n\n\n\"\"\"AI is large domain dat inclues ML,DL is the process of making machine smarter equivalent \nto human and can make logical decission on its own and perform task without human interfernce\n\nML is a subset of AI that ensures the learnig way of machine so \nthat it can perform task without human in near future\n\nDL is a part of ML that makes the machine capable to learn without human programmers\n\nDS is includes AI,ML,DL and some other mathematical,stastical methods to pretect/forecat\"\"\"\n\n",
      "metadata": {
        "trusted": true
      },
      "execution_count": 11,
      "outputs": [
        {
          "execution_count": 11,
          "output_type": "execute_result",
          "data": {
            "text/plain": "'AI is large domain dat inclues ML,DL is the process of making machine smarter equivalent \\nto human and can make logical decission on its own and perform task without human interfernce\\n\\nML is a subset of AI that ensures the learnig way of machine so \\nthat it can perform task without human in near future\\n\\nDL is a part of ML that makes the machine capable to learn without human programmers\\n\\nDS is includes AI,ML,DL and some other mathematical,stastical methods to pretect/forecat'"
          },
          "metadata": {}
        }
      ]
    },
    {
      "cell_type": "code",
      "source": "'''Q5- What arK thK main diffKrKncKs bKtwKKn supKrvisKd, unsupKrvisKd, and sKmi-supKrvisKd lKarnin*?'''\n\n\n\n'''Supervised Learning: In supervised learning, the algorithm is trained on labeled data, \nwhich means that the input data is accompanied by the corresponding output values. \nThe algorithm learns to predict the output variable based on the input data.\n\n\nUnsupervised Learning: In unsupervised learning, the algorithm is trained on unlabeled data,\nwhich means that there are no pre-defined output values. \nThe algorithm learns to find patterns and relationships in the input data without any specific guidance\n\n\n\nSemi-Supervised Learning: Semi-supervised learning is a combination of supervised and unsupervised learning. \nIn semi-supervised learning, the algorithm is trained on a combination of labeled and unlabeled data. \nThe algorithm uses the labeled data to learn to predict the output variable, and then \nit uses the unlabeled data to improve its predictions by finding patterns and relationships in the input data. '''",
      "metadata": {
        "trusted": true
      },
      "execution_count": 13,
      "outputs": [
        {
          "execution_count": 13,
          "output_type": "execute_result",
          "data": {
            "text/plain": "'Supervised Learning: In supervised learning, the algorithm is trained on labeled data, \\nwhich means that the input data is accompanied by the corresponding output values. \\nThe algorithm learns to predict the output variable based on the input data.\\n\\n\\nUnsupervised Learning: In unsupervised learning, the algorithm is trained on unlabeled data,\\nwhich means that there are no pre-defined output values. \\nThe algorithm learns to find patterns and relationships in the input data without any specific guidance\\n\\n\\n\\nSemi-Supervised Learning: Semi-supervised learning is a combination of supervised and unsupervised learning. \\nIn semi-supervised learning, the algorithm is trained on a combination of labeled and unlabeled data. \\nThe algorithm uses the labeled data to learn to predict the output variable, and then \\nit uses the unlabeled data to improve its predictions by finding patterns and relationships in the input data. '"
          },
          "metadata": {}
        }
      ]
    },
    {
      "cell_type": "code",
      "source": "'''Q6- What is train, tKst and validation split? E=plain thK importancK of Kach tKrm.'''\n\n\n'''train data set is used to train the model( eg acts as test book )\nvalidation data set is used to check the learning/increase accuracy(Eg mock tests)\ntest data set is totally new data given to workafter deployment(\"eg exam)'''",
      "metadata": {},
      "execution_count": null,
      "outputs": []
    },
    {
      "cell_type": "code",
      "source": "\n\"Q7- How can unsupKrvisKd lKarnin* bK usKd in anomaly dKtKction?\"\n\n'''\nUnsupervised learning can be used in anomaly detection to identify data points or \npatterns that deviate significantly from normal behavior or events. Clustering, density \nestimation, and reconstruction-based methods are common unsupervised learning techniques used for \nanomaly detection. These algorithms are trained on a large dataset of normal behavior or events to identify \nanomalies. Anomalous data points can then be investigated further to determine whether they are indicative of \nany unusual or abnormal behavior or events. Unsupervised learning techniques are well-suited for anomaly detection since they do not require\nlabeled data and can identify anomalies based solely on the properties of the input data.'''",
      "metadata": {},
      "execution_count": null,
      "outputs": []
    },
    {
      "cell_type": "code",
      "source": "",
      "metadata": {},
      "execution_count": null,
      "outputs": []
    }
  ]
}